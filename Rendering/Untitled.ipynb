{
 "cells": [
  {
   "cell_type": "code",
   "execution_count": 1,
   "id": "private-flavor",
   "metadata": {},
   "outputs": [],
   "source": []
  },
  {
   "cell_type": "code",
   "execution_count": 1,
   "id": "lightweight-bandwidth",
   "metadata": {},
   "outputs": [],
   "source": [
    "import glob\n",
    "import pyrender\n",
    "import trimesh\n",
    "import os\n",
    "from typing import Union,List,Dict,Tuple\n",
    "import re\n",
    "import numpy as np\n",
    "from pickle import load,dump\n",
    "folder = \"/local/home/lrahmann/Comparison/data/nglod/\"\n",
    "files = glob.glob(f\"{folder}/*.obj\") + glob.glob(f\"{folder}/*.off\") "
   ]
  },
  {
   "cell_type": "code",
   "execution_count": 2,
   "id": "early-commercial",
   "metadata": {},
   "outputs": [],
   "source": [
    "#import sys\n",
    "#sys.path.append(\"..\")\n",
    "#from computeChamfer import Compute_Chamfer"
   ]
  },
  {
   "cell_type": "code",
   "execution_count": 3,
   "id": "close-paste",
   "metadata": {},
   "outputs": [],
   "source": [
    "class Config:\n",
    "    basefolder : str = \".\"\n",
    "    bg_color = [0.25,0.25,0.25,0]\n",
    "    ambient_light = [0.5,0.5,0.5]\n",
    "    @staticmethod\n",
    "    def Viewer(scene:pyrender.Scene) -> pyrender.Viewer:\n",
    "        return pyrender.Viewer(scene,render_flags={\"all_solid\":True},viewer_flags={\"use_direct_lighting\":True})\n",
    "    def Scene() -> pyrender.Scene:\n",
    "        return pyrender.Scene(bg_color = Config.bg_color, ambient_light = Config.ambient_light)\n",
    "        "
   ]
  },
  {
   "cell_type": "code",
   "execution_count": 4,
   "id": "greenhouse-cholesterol",
   "metadata": {},
   "outputs": [],
   "source": [
    "class Mesh(object):\n",
    "    \"\"\"A small wrapper for meshes to provide tools to compute the chamfer distance etc. and rendering over pyrenderer\n",
    "    \n",
    "    Attributes:\n",
    "        filename (str): Filename used for importing/exporting the mesh\n",
    "        translation (np.ndarray): Translation of the mesh e.g. for normalization\n",
    "        scale (np.ndarray): scale of the mesh per axis\n",
    "        children (List[Mesh]): list of the children meshes attributed with this mesh (e.g. chamfer distance)\n",
    "        values : Dict[str,float] \n",
    "    \"\"\"\n",
    "    filename : str = None\n",
    "    mesh :  pyrender.mesh.Mesh = None\n",
    "    translation : np.ndarray = np.array([0.0,0.0,0.0])\n",
    "    name : str = None\n",
    "    scale : np.ndarray = np.array([1.0,1.0,1.0])\n",
    "        \n",
    "    children : List[\"Mesh\"] = None\n",
    "    values : Dict[str,float] = None\n",
    "    \n",
    "    def __init__(self, name : str, \n",
    "                 filename : str = None, \n",
    "                 vertices : np.ndarray = None, \n",
    "                 faces : np.ndarray = None, \n",
    "                 normals : np.ndarray = None,\n",
    "                 colors : np.ndarray = None):\n",
    "        self.filename = filename\n",
    "        self.name = name\n",
    "        self.children = []\n",
    "        values = {}\n",
    "        if vertices:\n",
    "            if not faces:\n",
    "                self.mesh = pyrender.from_points(vertices,normals,colors)\n",
    "            else:\n",
    "                self.mesh = pyrender.Mesh.from_trimesh(trimesh.Trimesh(vertices,faces))\n",
    "                \n",
    "    \n",
    "    def load(self):\n",
    "        if not self.mesh:\n",
    "            mesh = trimesh.load_mesh(self.filename)\n",
    "            mesh.faces = mesh.faces[:,::-1]\n",
    "            self.mesh = pyrender.Mesh.from_trimesh(mesh,smooth = False)\n",
    "   \n",
    "    def chamfer(self, other : 'Mesh'):\n",
    "        pass\n",
    "\n",
    "    def normalize(self):\n",
    "        assert(len(self.mesh.primitives) == 1)\n",
    "        vertices = (self.mesh.primitives[0].positions + self.translation ) * self.scale\n",
    "        cordmax = vertices.max(axis=0)\n",
    "        cordmin = vertices.min(axis=0)\n",
    "        mean = (cordmax+cordmin)/2\n",
    "        vertices -= mean\n",
    "        self.translation -= mean\n",
    "        self.scale /= np.linalg.norm(vertices,axis=1).max()\n",
    "    \n",
    "    def show(self):\n",
    "        pass\n",
    "    \n",
    "    def getnode(self):\n",
    "        return pyrender.Node(name=self.name,scale=self.scale, translation=self.translation)\n",
    "    \n",
    "        "
   ]
  },
  {
   "cell_type": "code",
   "execution_count": 12,
   "id": "failing-saturday",
   "metadata": {},
   "outputs": [],
   "source": [
    "class CameraConfiguration:\n",
    "    \n",
    "    configurations : Dict[str,'CameraConfiguration'] = {}\n",
    "    \n",
    "    pose : np.ndarray = np.eye(4)\n",
    "    yfov: float = np.pi / 3.0\n",
    "    ratio: float = 16.0/9.0\n",
    "    name : str = None\n",
    "    \n",
    "    @staticmethod\n",
    "    def extract_from_viewer(viewer : pyrender.Viewer, config : \"CameraConfiguration\" = None) -> 'CameraConfiguration':\n",
    "        if not config:\n",
    "            config = CameraConfiguration()\n",
    "        config.pose = viewer._camera_node.matrix.copy()\n",
    "        config.yfov = viewer._camera_node.camera._yfov\n",
    "        config.ratio = viewer.viewport_size[0]/viewer.viewport_size[1]\n",
    "        return config\n",
    "    \n",
    "    @staticmethod\n",
    "    def get_camera_file(self, name:str):\n",
    "        return f\"{Config.basefolder}/{self.name}_{name}_camera.pkl\"\n",
    "   \n",
    "    @staticmethod\n",
    "    def load_all():\n",
    "        g_path = CameraConfiguration.get_camera_file(\"*\")\n",
    "        g_regex = re.escape(self.get_camera_file(\"REPLACEME\")).replace(\"REPLACEME\",\"([A-z]*)\")\n",
    "        pattern = re.compile(g_regex)\n",
    "        for camera in glob.glob(g_path):\n",
    "            try:\n",
    "                match = pattern.search(camera)\n",
    "                if(len(match.group())>0):\n",
    "                    with open(camera, 'rb') as infile:\n",
    "                        c = CameraConfiguration()\n",
    "                        c.__dict__.update(load(infile))\n",
    "                        CameraConfiguration.configurations[match.group(1)] = c\n",
    "            except:\n",
    "                pass\n",
    "            \n",
    "    @staticmethod\n",
    "    def save_all():\n",
    "        for camera in CameraConfiguration.configurations:\n",
    "            camera.export()\n",
    "    \n",
    "    @staticmethod\n",
    "    def set_camera(name : str, reference: Mesh, height: int = 720):\n",
    "        scene : pyrender.Scene = None\n",
    "        width : int = int(height * (16.0/9.0))\n",
    "        old_camera : \"Camera\" = None\n",
    "        \n",
    "        if name in CameraConfiguration.configurations:\n",
    "            camera = CameraConfiguration.configurations[name]\n",
    "            scene = camera.get_scene()\n",
    "            width = int(camera.ratio * height)\n",
    "            old_camera = camera\n",
    "        else:\n",
    "            scene = Config.Scene()\n",
    "            \n",
    "        scene.add(reference.mesh,reference.name)\n",
    "        viewer = pyrender.Viewer(scene,viewport_size=(width,height),render_flags={\"all_solid\":True},viewer_flags={\"use_direct_lighting\":True})\n",
    "        cam = CameraConfiguration.extract_from_viewer(viewer,old_camera)\n",
    "        \n",
    "        cam.name = name\n",
    "        if cam not in CameraConfiguration.configurations:\n",
    "            CameraConfiguration.configurations[name]=cam\n",
    "        \n",
    "        print(f\"Modified/Added camera with name {name}\")\n",
    "    \n",
    "    \n",
    "    def get_scene(self):\n",
    "        scene = Config.Scene()\n",
    "        cam = pyrender.PerspectiveCamera(yfov=self.yfov)\n",
    "        cam_node = scene.add(cam, pose=self.pose)\n",
    "        scene.main_camera_node = cam_node\n",
    "        return scene\n",
    "    \n",
    "    def reload(self):\n",
    "        path : str = CameraConfiguration.get_camera_file(self.name)\n",
    "        with open(path, 'rb') as infile:\n",
    "            self.__dict__.update(load(infile))\n",
    "            print(f\"Reloaded camera {self.name} filename {path}\")\n",
    "            \n",
    "\n",
    "    def export(self):\n",
    "        path : str = CameraConfiguration.get_camera_file(self.name)\n",
    "        with open(path, 'wb') as outfile:\n",
    "            dump(cam.__dict__,outfile)\n",
    "            print(f\"Saved camera {self.name} filename {path}\")\n",
    "            \n",
    "    \n",
    "    def rm_camera(self, name:str):\n",
    "        del self.scenes[name]"
   ]
  },
  {
   "cell_type": "code",
   "execution_count": 13,
   "id": "collective-choir",
   "metadata": {},
   "outputs": [],
   "source": [
    "class Experiment:\n",
    "    \"\"\"Describes the set of one experiment (e.g. different methods using the same groundTruth) and compares those with each other\n",
    "    Attributes:\n",
    "        name (str): name to use for this experiment in the generated tables/models\n",
    "        evaluations List[Mesh]: resulting meshes of this experiment\n",
    "        groundtruth Mesh: ground truth mesh of this experiment\n",
    "        scenes : camera poses to render\n",
    "    \"\"\"\n",
    "    name : str = None\n",
    "    evaluations : List[Mesh] = None\n",
    "    groundtruth : Mesh = None\n",
    "    scenes : List[CameraConfiguration] = None\n",
    "    \n",
    "    def __init__(self, name : str , groundtruth : Mesh):\n",
    "        self.evaluations = []\n",
    "        self.scenes = []\n",
    "        self.groundtruth = groundtruth\n",
    "        self.name = name \n",
    "    \n",
    "   "
   ]
  },
  {
   "cell_type": "code",
   "execution_count": null,
   "id": "excellent-failure",
   "metadata": {},
   "outputs": [],
   "source": []
  },
  {
   "cell_type": "code",
   "execution_count": 14,
   "id": "curious-washer",
   "metadata": {},
   "outputs": [],
   "source": [
    "def getfilename(path:str)->str:\n",
    "    return os.path.splitext(os.path.basename(path))[0]\n",
    "groundTruth = Mesh(getfilename(files[0]),files[0])\n",
    "groundTruth.load()\n",
    "groundTruth.normalize()\n",
    "ex = Experiment(getfilename(files[0]),groundTruth)\n"
   ]
  },
  {
   "cell_type": "code",
   "execution_count": 15,
   "id": "early-wellington",
   "metadata": {},
   "outputs": [
    {
     "name": "stdout",
     "output_type": "stream",
     "text": [
      "<pyglet.libs.x11.xlib.LP_struct__XDisplay object at 0x7fb1341ab510> 482 0 0 640 480 0 24 1 <pyglet.libs.x11.xlib.LP_struct_anon_18 object at 0x7fb104955158> 8210 <cparam 'P' (0x7fb10494d650)>\n"
     ]
    },
    {
     "data": {
      "text/plain": [
       "Viewer(width=640, height=480)"
      ]
     },
     "execution_count": 15,
     "metadata": {},
     "output_type": "execute_result"
    }
   ],
   "source": [
    "scene = Config.Scene()\n",
    "scene.add(groundTruth.mesh)\n",
    "pyrender.Viewer(scene,render_flags={\"all_solid\":True},viewer_flags={\"use_direct_lighting\":True})"
   ]
  },
  {
   "cell_type": "code",
   "execution_count": 17,
   "id": "northern-cabinet",
   "metadata": {},
   "outputs": [
    {
     "ename": "AttributeError",
     "evalue": "'CameraConfiguration' object has no attribute 'GetScene'",
     "output_type": "error",
     "traceback": [
      "\u001b[0;31m---------------------------------------------------------------------------\u001b[0m",
      "\u001b[0;31mAttributeError\u001b[0m                            Traceback (most recent call last)",
      "\u001b[0;32m<ipython-input-17-80d9a7618325>\u001b[0m in \u001b[0;36m<module>\u001b[0;34m\u001b[0m\n\u001b[0;32m----> 1\u001b[0;31m \u001b[0mCameraConfiguration\u001b[0m\u001b[0;34m.\u001b[0m\u001b[0mset_camera\u001b[0m\u001b[0;34m(\u001b[0m\u001b[0;34m\"dragon_wing\"\u001b[0m\u001b[0;34m,\u001b[0m\u001b[0mgroundTruth\u001b[0m\u001b[0;34m)\u001b[0m\u001b[0;34m\u001b[0m\u001b[0;34m\u001b[0m\u001b[0m\n\u001b[0m",
      "\u001b[0;32m<ipython-input-12-3b25e96a8388>\u001b[0m in \u001b[0;36mset_camera\u001b[0;34m(name, reference, height)\u001b[0m\n\u001b[1;32m     50\u001b[0m         \u001b[0;32mif\u001b[0m \u001b[0mname\u001b[0m \u001b[0;32min\u001b[0m \u001b[0mCameraConfiguration\u001b[0m\u001b[0;34m.\u001b[0m\u001b[0mconfigurations\u001b[0m\u001b[0;34m:\u001b[0m\u001b[0;34m\u001b[0m\u001b[0;34m\u001b[0m\u001b[0m\n\u001b[1;32m     51\u001b[0m             \u001b[0mcamera\u001b[0m \u001b[0;34m=\u001b[0m \u001b[0mCameraConfiguration\u001b[0m\u001b[0;34m.\u001b[0m\u001b[0mconfigurations\u001b[0m\u001b[0;34m[\u001b[0m\u001b[0mname\u001b[0m\u001b[0;34m]\u001b[0m\u001b[0;34m\u001b[0m\u001b[0;34m\u001b[0m\u001b[0m\n\u001b[0;32m---> 52\u001b[0;31m             \u001b[0mscene\u001b[0m \u001b[0;34m=\u001b[0m \u001b[0mcamera\u001b[0m\u001b[0;34m.\u001b[0m\u001b[0mGetScene\u001b[0m\u001b[0;34m(\u001b[0m\u001b[0;34m)\u001b[0m\u001b[0;34m\u001b[0m\u001b[0;34m\u001b[0m\u001b[0m\n\u001b[0m\u001b[1;32m     53\u001b[0m             \u001b[0mwidth\u001b[0m \u001b[0;34m=\u001b[0m \u001b[0mint\u001b[0m\u001b[0;34m(\u001b[0m\u001b[0mcamera\u001b[0m\u001b[0;34m.\u001b[0m\u001b[0mratio\u001b[0m \u001b[0;34m*\u001b[0m \u001b[0mheight\u001b[0m\u001b[0;34m)\u001b[0m\u001b[0;34m\u001b[0m\u001b[0;34m\u001b[0m\u001b[0m\n\u001b[1;32m     54\u001b[0m             \u001b[0mold_camera\u001b[0m \u001b[0;34m=\u001b[0m \u001b[0mcamera\u001b[0m\u001b[0;34m\u001b[0m\u001b[0;34m\u001b[0m\u001b[0m\n",
      "\u001b[0;31mAttributeError\u001b[0m: 'CameraConfiguration' object has no attribute 'GetScene'"
     ]
    }
   ],
   "source": [
    "CameraConfiguration.set_camera(\"dragon_wing\",groundTruth)"
   ]
  },
  {
   "cell_type": "code",
   "execution_count": null,
   "id": "settled-launch",
   "metadata": {},
   "outputs": [],
   "source": []
  },
  {
   "cell_type": "code",
   "execution_count": null,
   "id": "distant-maria",
   "metadata": {},
   "outputs": [],
   "source": [
    "import pyglet\n"
   ]
  },
  {
   "cell_type": "code",
   "execution_count": null,
   "id": "connected-engineering",
   "metadata": {},
   "outputs": [],
   "source": [
    "window = pyglet.window.Window(display=None)\n",
    "window.on_close = lambda:window.close()\n",
    "label = pyglet.text.Label('Hello, world',\n",
    "                          font_name='Times New Roman',\n",
    "                          font_size=36,\n",
    "                          x=window.width//2, y=window.height//2,\n",
    "                          anchor_x='center', anchor_y='center')"
   ]
  },
  {
   "cell_type": "code",
   "execution_count": 12,
   "id": "divided-extraction",
   "metadata": {},
   "outputs": [],
   "source": [
    "window.close()"
   ]
  },
  {
   "cell_type": "code",
   "execution_count": 18,
   "id": "postal-ebony",
   "metadata": {},
   "outputs": [],
   "source": [
    "import tabulate"
   ]
  },
  {
   "cell_type": "code",
   "execution_count": 50,
   "id": "appointed-quilt",
   "metadata": {},
   "outputs": [
    {
     "name": "stdout",
     "output_type": "stream",
     "text": [
      "        row1    row2\n",
      "----  ------  ------\n",
      "val1       1       3\n",
      "val2       2       4\n",
      "val3       3       5\n"
     ]
    }
   ],
   "source": [
    "example_data = {\"\":[\"val1\",\"val2\",\"val3\"],\"row1\":[1,2,3],\"row2\":[3,4,5]}\n",
    "print(tabulate.tabulate(example_data,headers=\"keys\"))"
   ]
  },
  {
   "cell_type": "code",
   "execution_count": 63,
   "id": "wireless-source",
   "metadata": {},
   "outputs": [
    {
     "name": "stdout",
     "output_type": "stream",
     "text": [
      "| --    | a     | b     |\n",
      "|-------|-------|-------|\n",
      "| test1 | test2 | test3 |\n",
      "| test1 | test  | test3 |\n",
      "| test1 | test  | test3 |\n"
     ]
    }
   ],
   "source": [
    "example_data =[[\"test1\",\"test2\",\"test3\"],[\"test1\",\"test\",\"test3\"],[\"test1\",\"test\",\"test3\"]]\n",
    "print(tabulate.tabulate(example_data,headers=[\"--\",\"a\",\"b\"],tablefmt=\"github\"))"
   ]
  },
  {
   "cell_type": "code",
   "execution_count": null,
   "id": "current-johns",
   "metadata": {},
   "outputs": [],
   "source": []
  }
 ],
 "metadata": {
  "kernelspec": {
   "display_name": "Python 3",
   "language": "python",
   "name": "python3"
  },
  "language_info": {
   "codemirror_mode": {
    "name": "ipython",
    "version": 3
   },
   "file_extension": ".py",
   "mimetype": "text/x-python",
   "name": "python",
   "nbconvert_exporter": "python",
   "pygments_lexer": "ipython3",
   "version": "3.6.13"
  }
 },
 "nbformat": 4,
 "nbformat_minor": 5
}
